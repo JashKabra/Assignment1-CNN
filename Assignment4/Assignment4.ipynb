{
  "nbformat": 4,
  "nbformat_minor": 5,
  "metadata": {
    "kernelspec": {
      "display_name": "Python 3",
      "language": "python",
      "name": "python3"
    },
    "language_info": {
      "codemirror_mode": {
        "name": "ipython",
        "version": 3
      },
      "file_extension": ".py",
      "mimetype": "text/x-python",
      "name": "python",
      "nbconvert_exporter": "python",
      "pygments_lexer": "ipython3",
      "version": "3.8.5"
    },
    "colab": {
      "name": "Assignment4.ipynb",
      "provenance": [],
      "collapsed_sections": []
    }
  },
  "cells": [
    {
      "cell_type": "markdown",
      "metadata": {
        "id": "eOfexjI_b1kH"
      },
      "source": [
        "# Assignment 4 : Neural Networks"
      ],
      "id": "eOfexjI_b1kH"
    },
    {
      "cell_type": "markdown",
      "metadata": {
        "id": "Iz_oo_ndb1kK"
      },
      "source": [
        "In this assignment, you will design an artificial neural network for a binary classification task. We will use Keras for implementing the neural network in this assignment. You can also use numpy, pandas and/or scikit-learn wherever you find them useful. You'll also need matplotlib"
      ],
      "id": "Iz_oo_ndb1kK"
    },
    {
      "cell_type": "markdown",
      "metadata": {
        "id": "th1-EtU-b1kK"
      },
      "source": [
        "#### Import the required libraries here"
      ],
      "id": "th1-EtU-b1kK"
    },
    {
      "cell_type": "code",
      "metadata": {
        "id": "DKI-831Bb1kL"
      },
      "source": [
        "import numpy as np\n",
        "import pandas as pd\n",
        "from sklearn.preprocessing import normalize\n",
        "import tensorflow as tf\n",
        "from IPython.display import Image\n",
        "import sklearn.metrics\n",
        "import matplotlib as plt\n",
        "#from google.colab import files\n",
        "#uploaded = files.upload()"
      ],
      "id": "DKI-831Bb1kL",
      "execution_count": 90,
      "outputs": []
    },
    {
      "cell_type": "markdown",
      "metadata": {
        "id": "MLuyAtWRb1kM"
      },
      "source": [
        "Load the dataset from the file named 'data.csv' . You'll find 7200 datapoints in this file. The first 6 columns are the features (X), while the last column has a binary label (Y) for each feature vector. After loading the dataset, divide it into a training set and a test set (cross-validation set to be more accurate). You can have 70% datapoints in the training set and 30% in the test set. An 80-20 split is also acceptable.\n",
        "\n",
        "Normalize your training set using mean and variances."
      ],
      "id": "MLuyAtWRb1kM"
    },
    {
      "cell_type": "code",
      "metadata": {
        "colab": {
          "base_uri": "https://localhost:8080/"
        },
        "id": "rJi4ymx4b1kN",
        "outputId": "4ece2b65-555e-42e7-ff68-01ec0909232e"
      },
      "source": [
        "dataset=pd.read_csv(\"data.csv\",header=None)\n",
        "X=np.array(dataset[[*range(0,6)]])\n",
        "Y=np.array(dataset[6])\n",
        "#X=normalize(X,axis=0)\n",
        "a=int(len(X)*0.7)\n",
        "print(a)\n",
        "train_set=X[0:a]\n",
        "train_set=normalize(train_set,axis=0)\n",
        "test_set=X[a:]\n",
        "test_set=normalize(test_set,axis=0)\n",
        "train_labels=Y[0:a]\n",
        "test_labels=Y[a:]"
      ],
      "id": "rJi4ymx4b1kN",
      "execution_count": 80,
      "outputs": [
        {
          "output_type": "stream",
          "text": [
            "5040\n"
          ],
          "name": "stdout"
        }
      ]
    },
    {
      "cell_type": "markdown",
      "metadata": {
        "id": "E9pGUVqPb1kN"
      },
      "source": [
        "Find the number of positive and negative samples in the training set /test set /the whole dataset. You'll use this result while evaluating your neural network model later."
      ],
      "id": "E9pGUVqPb1kN"
    },
    {
      "cell_type": "code",
      "metadata": {
        "scrolled": true,
        "colab": {
          "base_uri": "https://localhost:8080/"
        },
        "id": "n4C5Q5UWb1kN",
        "outputId": "19c3244d-9358-4a57-87dd-acc6dea6bfb6"
      },
      "source": [
        "train_pos=np.count_nonzero(train_labels)\n",
        "train_neg=len(train_labels)-train_pos\n",
        "test_pos=np.count_nonzero(test_labels)\n",
        "test_neg=len(test_labels)-test_pos\n",
        "print(\"Training set-positive={},negative={}\".format(train_pos,train_neg))\n",
        "print(\"Test set-positive={},negative={}\".format(test_pos,test_neg))"
      ],
      "id": "n4C5Q5UWb1kN",
      "execution_count": 81,
      "outputs": [
        {
          "output_type": "stream",
          "text": [
            "Training set-positive=370,negative=4670\n",
            "Test set-positive=164,negative=1996\n"
          ],
          "name": "stdout"
        }
      ]
    },
    {
      "cell_type": "markdown",
      "metadata": {
        "id": "yF1ADAc_b1kO"
      },
      "source": [
        "#### Define the architecture of the neural network\n",
        "\n",
        "Initialise a sequential neural network model using keras.models.Sequential(), and add dense layers (dense layer means fully-connected layer) to it using keras.layers.Dense() (you easily how to do this from the internet).\n",
        "\n",
        "Use ReLU activation function in every layer, except the last one, where you'll use the sigmoid activation function, since it's a binary classification task.\n",
        "\n",
        "The choice of the number of layers and the number of units in a layer is totally up to you. "
      ],
      "id": "yF1ADAc_b1kO"
    },
    {
      "cell_type": "code",
      "metadata": {
        "colab": {
          "base_uri": "https://localhost:8080/"
        },
        "id": "fXamWT_Cb1kO",
        "outputId": "c3790f27-759f-4eb8-849c-ca5584fc9ec8"
      },
      "source": [
        "model = tf.keras.Sequential()\n",
        "model.add(tf.keras.layers.Dense(16,input_shape=(6,),activation='relu'))\n",
        "#model.add(tf.keras.layers.Dense(8,activation='relu'))\n",
        "model.add(tf.keras.layers.Dense(1,activation='sigmoid'))\n",
        "model.summary()"
      ],
      "id": "fXamWT_Cb1kO",
      "execution_count": 86,
      "outputs": [
        {
          "output_type": "stream",
          "text": [
            "Model: \"sequential_17\"\n",
            "_________________________________________________________________\n",
            "Layer (type)                 Output Shape              Param #   \n",
            "=================================================================\n",
            "dense_44 (Dense)             (None, 16)                112       \n",
            "_________________________________________________________________\n",
            "dense_45 (Dense)             (None, 1)                 17        \n",
            "=================================================================\n",
            "Total params: 129\n",
            "Trainable params: 129\n",
            "Non-trainable params: 0\n",
            "_________________________________________________________________\n"
          ],
          "name": "stdout"
        }
      ]
    },
    {
      "cell_type": "markdown",
      "metadata": {
        "id": "ymJulXWbb1kO"
      },
      "source": [
        "#### Training the neural network\n",
        "\n",
        "1. Compile your nn model using model.compile() . Use the appropriate loss function (binary cross-entropy), and use Adam optimizer. Pass on 'accuracy' as a metric, so that you get to see the accuracy on your training set after every iteration of Adam optimization (a form of mini-batch gradient descent).\n",
        "\n",
        "Try to look-up and learn a bit about what stochastic gradient descent and mini-batch gradient descent essentilly are. You'll use mini-batches while training your model.\n",
        "\n",
        "2. Train your model using model.fit() (this will take a while, perhaps a few minutes). Use appropriate number of ephocs and batch size (you have to decide which values work the best). Don't forget that you have to train your model on the training set, and not the test set"
      ],
      "id": "ymJulXWbb1kO"
    },
    {
      "cell_type": "code",
      "metadata": {
        "id": "G5O_Dj8eb1kP",
        "colab": {
          "base_uri": "https://localhost:8080/"
        },
        "outputId": "6818ed5c-adc9-4b01-8433-1931c2b5a7b0"
      },
      "source": [
        "model.compile(optimizer='adam',loss='binary_crossentropy',metrics=['accuracy'])\n",
        "model.fit(train_set,train_labels,batch_size=10,epochs=200)"
      ],
      "id": "G5O_Dj8eb1kP",
      "execution_count": 87,
      "outputs": [
        {
          "output_type": "stream",
          "text": [
            "Epoch 1/200\n",
            "504/504 [==============================] - 1s 972us/step - loss: 0.5172 - accuracy: 0.9275\n",
            "Epoch 2/200\n",
            "504/504 [==============================] - 0s 975us/step - loss: 0.2634 - accuracy: 0.9230\n",
            "Epoch 3/200\n",
            "504/504 [==============================] - 1s 994us/step - loss: 0.2508 - accuracy: 0.9264\n",
            "Epoch 4/200\n",
            "504/504 [==============================] - 1s 1ms/step - loss: 0.2635 - accuracy: 0.9188\n",
            "Epoch 5/200\n",
            "504/504 [==============================] - 1s 1ms/step - loss: 0.2307 - accuracy: 0.9303\n",
            "Epoch 6/200\n",
            "504/504 [==============================] - 1s 1ms/step - loss: 0.2499 - accuracy: 0.9206\n",
            "Epoch 7/200\n",
            "504/504 [==============================] - 0s 974us/step - loss: 0.2181 - accuracy: 0.9328\n",
            "Epoch 8/200\n",
            "504/504 [==============================] - 1s 1ms/step - loss: 0.2118 - accuracy: 0.9343\n",
            "Epoch 9/200\n",
            "504/504 [==============================] - 1s 992us/step - loss: 0.2163 - accuracy: 0.9326\n",
            "Epoch 10/200\n",
            "504/504 [==============================] - 1s 1ms/step - loss: 0.2136 - accuracy: 0.9320\n",
            "Epoch 11/200\n",
            "504/504 [==============================] - 0s 968us/step - loss: 0.2083 - accuracy: 0.9317\n",
            "Epoch 12/200\n",
            "504/504 [==============================] - 0s 980us/step - loss: 0.2063 - accuracy: 0.9322\n",
            "Epoch 13/200\n",
            "504/504 [==============================] - 1s 997us/step - loss: 0.1853 - accuracy: 0.9399\n",
            "Epoch 14/200\n",
            "504/504 [==============================] - 1s 1ms/step - loss: 0.1753 - accuracy: 0.9441\n",
            "Epoch 15/200\n",
            "504/504 [==============================] - 1s 1ms/step - loss: 0.1928 - accuracy: 0.9355\n",
            "Epoch 16/200\n",
            "504/504 [==============================] - 1s 996us/step - loss: 0.1802 - accuracy: 0.9407\n",
            "Epoch 17/200\n",
            "504/504 [==============================] - 1s 967us/step - loss: 0.1772 - accuracy: 0.9420\n",
            "Epoch 18/200\n",
            "504/504 [==============================] - 1s 1ms/step - loss: 0.1780 - accuracy: 0.9404\n",
            "Epoch 19/200\n",
            "504/504 [==============================] - 1s 999us/step - loss: 0.1794 - accuracy: 0.9399\n",
            "Epoch 20/200\n",
            "504/504 [==============================] - 1s 1ms/step - loss: 0.1705 - accuracy: 0.9416\n",
            "Epoch 21/200\n",
            "504/504 [==============================] - 0s 980us/step - loss: 0.1597 - accuracy: 0.9483\n",
            "Epoch 22/200\n",
            "504/504 [==============================] - 1s 1ms/step - loss: 0.1602 - accuracy: 0.9476\n",
            "Epoch 23/200\n",
            "504/504 [==============================] - 1s 1ms/step - loss: 0.1666 - accuracy: 0.9475\n",
            "Epoch 24/200\n",
            "504/504 [==============================] - 1s 1ms/step - loss: 0.1680 - accuracy: 0.9426\n",
            "Epoch 25/200\n",
            "504/504 [==============================] - 1s 1ms/step - loss: 0.1562 - accuracy: 0.9480\n",
            "Epoch 26/200\n",
            "504/504 [==============================] - 1s 1ms/step - loss: 0.1567 - accuracy: 0.9494\n",
            "Epoch 27/200\n",
            "504/504 [==============================] - 1s 999us/step - loss: 0.1576 - accuracy: 0.9463\n",
            "Epoch 28/200\n",
            "504/504 [==============================] - 1s 1ms/step - loss: 0.1531 - accuracy: 0.9514\n",
            "Epoch 29/200\n",
            "504/504 [==============================] - 1s 1ms/step - loss: 0.1545 - accuracy: 0.9499\n",
            "Epoch 30/200\n",
            "504/504 [==============================] - 1s 991us/step - loss: 0.1557 - accuracy: 0.9501\n",
            "Epoch 31/200\n",
            "504/504 [==============================] - 0s 962us/step - loss: 0.1562 - accuracy: 0.9494\n",
            "Epoch 32/200\n",
            "504/504 [==============================] - 1s 1ms/step - loss: 0.1535 - accuracy: 0.9491\n",
            "Epoch 33/200\n",
            "504/504 [==============================] - 1s 1ms/step - loss: 0.1551 - accuracy: 0.9480\n",
            "Epoch 34/200\n",
            "504/504 [==============================] - 1s 1ms/step - loss: 0.1557 - accuracy: 0.9492\n",
            "Epoch 35/200\n",
            "504/504 [==============================] - 1s 1ms/step - loss: 0.1410 - accuracy: 0.9557\n",
            "Epoch 36/200\n",
            "504/504 [==============================] - 1s 1ms/step - loss: 0.1610 - accuracy: 0.9495\n",
            "Epoch 37/200\n",
            "504/504 [==============================] - 1s 1ms/step - loss: 0.1614 - accuracy: 0.9468\n",
            "Epoch 38/200\n",
            "504/504 [==============================] - 1s 1ms/step - loss: 0.1383 - accuracy: 0.9564\n",
            "Epoch 39/200\n",
            "504/504 [==============================] - 0s 984us/step - loss: 0.1442 - accuracy: 0.9517\n",
            "Epoch 40/200\n",
            "504/504 [==============================] - 1s 1ms/step - loss: 0.1500 - accuracy: 0.9488\n",
            "Epoch 41/200\n",
            "504/504 [==============================] - 1s 1ms/step - loss: 0.1584 - accuracy: 0.9517\n",
            "Epoch 42/200\n",
            "504/504 [==============================] - 1s 1ms/step - loss: 0.1589 - accuracy: 0.9475\n",
            "Epoch 43/200\n",
            "504/504 [==============================] - 1s 1ms/step - loss: 0.1476 - accuracy: 0.9531\n",
            "Epoch 44/200\n",
            "504/504 [==============================] - 0s 984us/step - loss: 0.1377 - accuracy: 0.9559\n",
            "Epoch 45/200\n",
            "504/504 [==============================] - 1s 990us/step - loss: 0.1485 - accuracy: 0.9515\n",
            "Epoch 46/200\n",
            "504/504 [==============================] - 1s 1ms/step - loss: 0.1335 - accuracy: 0.9553\n",
            "Epoch 47/200\n",
            "504/504 [==============================] - 1s 1ms/step - loss: 0.1503 - accuracy: 0.9536\n",
            "Epoch 48/200\n",
            "504/504 [==============================] - 1s 1ms/step - loss: 0.1290 - accuracy: 0.9572\n",
            "Epoch 49/200\n",
            "504/504 [==============================] - 1s 1ms/step - loss: 0.1450 - accuracy: 0.9499\n",
            "Epoch 50/200\n",
            "504/504 [==============================] - 1s 1ms/step - loss: 0.1320 - accuracy: 0.9585\n",
            "Epoch 51/200\n",
            "504/504 [==============================] - 1s 1ms/step - loss: 0.1400 - accuracy: 0.9510\n",
            "Epoch 52/200\n",
            "504/504 [==============================] - 0s 970us/step - loss: 0.1436 - accuracy: 0.9521\n",
            "Epoch 53/200\n",
            "504/504 [==============================] - 0s 975us/step - loss: 0.1358 - accuracy: 0.9555\n",
            "Epoch 54/200\n",
            "504/504 [==============================] - 1s 1ms/step - loss: 0.1265 - accuracy: 0.9590\n",
            "Epoch 55/200\n",
            "504/504 [==============================] - 1s 1ms/step - loss: 0.1428 - accuracy: 0.9525\n",
            "Epoch 56/200\n",
            "504/504 [==============================] - 0s 973us/step - loss: 0.1363 - accuracy: 0.9534\n",
            "Epoch 57/200\n",
            "504/504 [==============================] - 1s 1ms/step - loss: 0.1378 - accuracy: 0.9556\n",
            "Epoch 58/200\n",
            "504/504 [==============================] - 1s 1ms/step - loss: 0.1384 - accuracy: 0.9514\n",
            "Epoch 59/200\n",
            "504/504 [==============================] - 1s 1ms/step - loss: 0.1442 - accuracy: 0.9453\n",
            "Epoch 60/200\n",
            "504/504 [==============================] - 1s 1ms/step - loss: 0.1230 - accuracy: 0.9572\n",
            "Epoch 61/200\n",
            "504/504 [==============================] - 0s 978us/step - loss: 0.1445 - accuracy: 0.9501\n",
            "Epoch 62/200\n",
            "504/504 [==============================] - 0s 970us/step - loss: 0.1291 - accuracy: 0.9532\n",
            "Epoch 63/200\n",
            "504/504 [==============================] - 1s 1ms/step - loss: 0.1322 - accuracy: 0.9539\n",
            "Epoch 64/200\n",
            "504/504 [==============================] - 0s 975us/step - loss: 0.1233 - accuracy: 0.9585\n",
            "Epoch 65/200\n",
            "504/504 [==============================] - 1s 1ms/step - loss: 0.1284 - accuracy: 0.9557\n",
            "Epoch 66/200\n",
            "504/504 [==============================] - 1s 1ms/step - loss: 0.1449 - accuracy: 0.9493\n",
            "Epoch 67/200\n",
            "504/504 [==============================] - 1s 1ms/step - loss: 0.1284 - accuracy: 0.9495\n",
            "Epoch 68/200\n",
            "504/504 [==============================] - 1s 999us/step - loss: 0.1215 - accuracy: 0.9549\n",
            "Epoch 69/200\n",
            "504/504 [==============================] - 1s 1ms/step - loss: 0.1239 - accuracy: 0.9533\n",
            "Epoch 70/200\n",
            "504/504 [==============================] - 1s 1ms/step - loss: 0.1170 - accuracy: 0.9557\n",
            "Epoch 71/200\n",
            "504/504 [==============================] - 0s 984us/step - loss: 0.1159 - accuracy: 0.9527\n",
            "Epoch 72/200\n",
            "504/504 [==============================] - 1s 1ms/step - loss: 0.1306 - accuracy: 0.9495\n",
            "Epoch 73/200\n",
            "504/504 [==============================] - 1s 1ms/step - loss: 0.1176 - accuracy: 0.9545\n",
            "Epoch 74/200\n",
            "504/504 [==============================] - 0s 977us/step - loss: 0.1131 - accuracy: 0.9553\n",
            "Epoch 75/200\n",
            "504/504 [==============================] - 0s 969us/step - loss: 0.1087 - accuracy: 0.9592\n",
            "Epoch 76/200\n",
            "504/504 [==============================] - 1s 1ms/step - loss: 0.1194 - accuracy: 0.9547\n",
            "Epoch 77/200\n",
            "504/504 [==============================] - 0s 990us/step - loss: 0.1024 - accuracy: 0.9612\n",
            "Epoch 78/200\n",
            "504/504 [==============================] - 1s 1ms/step - loss: 0.1072 - accuracy: 0.9609\n",
            "Epoch 79/200\n",
            "504/504 [==============================] - 0s 983us/step - loss: 0.1025 - accuracy: 0.9620\n",
            "Epoch 80/200\n",
            "504/504 [==============================] - 1s 1ms/step - loss: 0.1057 - accuracy: 0.9598\n",
            "Epoch 81/200\n",
            "504/504 [==============================] - 1s 998us/step - loss: 0.0931 - accuracy: 0.9658\n",
            "Epoch 82/200\n",
            "504/504 [==============================] - 1s 1ms/step - loss: 0.0923 - accuracy: 0.9662\n",
            "Epoch 83/200\n",
            "504/504 [==============================] - 1s 1ms/step - loss: 0.1003 - accuracy: 0.9599\n",
            "Epoch 84/200\n",
            "504/504 [==============================] - 1s 995us/step - loss: 0.0972 - accuracy: 0.9644\n",
            "Epoch 85/200\n",
            "504/504 [==============================] - 1s 1ms/step - loss: 0.1012 - accuracy: 0.9619\n",
            "Epoch 86/200\n",
            "504/504 [==============================] - 1s 1ms/step - loss: 0.0943 - accuracy: 0.9627\n",
            "Epoch 87/200\n",
            "504/504 [==============================] - 1s 1ms/step - loss: 0.0970 - accuracy: 0.9629\n",
            "Epoch 88/200\n",
            "504/504 [==============================] - 1s 1ms/step - loss: 0.1034 - accuracy: 0.9579\n",
            "Epoch 89/200\n",
            "504/504 [==============================] - 1s 998us/step - loss: 0.0922 - accuracy: 0.9655\n",
            "Epoch 90/200\n",
            "504/504 [==============================] - 1s 1ms/step - loss: 0.0973 - accuracy: 0.9665\n",
            "Epoch 91/200\n",
            "504/504 [==============================] - 1s 1ms/step - loss: 0.0953 - accuracy: 0.9677\n",
            "Epoch 92/200\n",
            "504/504 [==============================] - 1s 1ms/step - loss: 0.0901 - accuracy: 0.9661\n",
            "Epoch 93/200\n",
            "504/504 [==============================] - 1s 1ms/step - loss: 0.0947 - accuracy: 0.9645\n",
            "Epoch 94/200\n",
            "504/504 [==============================] - 1s 1ms/step - loss: 0.0929 - accuracy: 0.9662\n",
            "Epoch 95/200\n",
            "504/504 [==============================] - 1s 1ms/step - loss: 0.0854 - accuracy: 0.9676\n",
            "Epoch 96/200\n",
            "504/504 [==============================] - 1s 1ms/step - loss: 0.0862 - accuracy: 0.9690\n",
            "Epoch 97/200\n",
            "504/504 [==============================] - 1s 1ms/step - loss: 0.0847 - accuracy: 0.9682\n",
            "Epoch 98/200\n",
            "504/504 [==============================] - 1s 1ms/step - loss: 0.0805 - accuracy: 0.9649\n",
            "Epoch 99/200\n",
            "504/504 [==============================] - 1s 1ms/step - loss: 0.0946 - accuracy: 0.9658\n",
            "Epoch 100/200\n",
            "504/504 [==============================] - 1s 1ms/step - loss: 0.0868 - accuracy: 0.9679\n",
            "Epoch 101/200\n",
            "504/504 [==============================] - 1s 1ms/step - loss: 0.0817 - accuracy: 0.9703\n",
            "Epoch 102/200\n",
            "504/504 [==============================] - 1s 1ms/step - loss: 0.0828 - accuracy: 0.9695\n",
            "Epoch 103/200\n",
            "504/504 [==============================] - 1s 1ms/step - loss: 0.0822 - accuracy: 0.9697\n",
            "Epoch 104/200\n",
            "504/504 [==============================] - 1s 1ms/step - loss: 0.0820 - accuracy: 0.9662\n",
            "Epoch 105/200\n",
            "504/504 [==============================] - 1s 1ms/step - loss: 0.0926 - accuracy: 0.9683\n",
            "Epoch 106/200\n",
            "504/504 [==============================] - 1s 1ms/step - loss: 0.0947 - accuracy: 0.9643\n",
            "Epoch 107/200\n",
            "504/504 [==============================] - 1s 1ms/step - loss: 0.0736 - accuracy: 0.9704\n",
            "Epoch 108/200\n",
            "504/504 [==============================] - 1s 1ms/step - loss: 0.0701 - accuracy: 0.9739\n",
            "Epoch 109/200\n",
            "504/504 [==============================] - 1s 1ms/step - loss: 0.0741 - accuracy: 0.9710\n",
            "Epoch 110/200\n",
            "504/504 [==============================] - 1s 1ms/step - loss: 0.0814 - accuracy: 0.9692\n",
            "Epoch 111/200\n",
            "504/504 [==============================] - 1s 1ms/step - loss: 0.0829 - accuracy: 0.9659\n",
            "Epoch 112/200\n",
            "504/504 [==============================] - 1s 1ms/step - loss: 0.0724 - accuracy: 0.9724\n",
            "Epoch 113/200\n",
            "504/504 [==============================] - 1s 1ms/step - loss: 0.0866 - accuracy: 0.9680\n",
            "Epoch 114/200\n",
            "504/504 [==============================] - 1s 1ms/step - loss: 0.0663 - accuracy: 0.9737\n",
            "Epoch 115/200\n",
            "504/504 [==============================] - 1s 1ms/step - loss: 0.0738 - accuracy: 0.9684\n",
            "Epoch 116/200\n",
            "504/504 [==============================] - 1s 1ms/step - loss: 0.0812 - accuracy: 0.9707\n",
            "Epoch 117/200\n",
            "504/504 [==============================] - 1s 1ms/step - loss: 0.0760 - accuracy: 0.9681\n",
            "Epoch 118/200\n",
            "504/504 [==============================] - 1s 1ms/step - loss: 0.0816 - accuracy: 0.9672\n",
            "Epoch 119/200\n",
            "504/504 [==============================] - 0s 979us/step - loss: 0.0743 - accuracy: 0.9706\n",
            "Epoch 120/200\n",
            "504/504 [==============================] - 1s 1ms/step - loss: 0.0635 - accuracy: 0.9734\n",
            "Epoch 121/200\n",
            "504/504 [==============================] - 1s 1ms/step - loss: 0.0736 - accuracy: 0.9715\n",
            "Epoch 122/200\n",
            "504/504 [==============================] - 1s 1ms/step - loss: 0.0750 - accuracy: 0.9688\n",
            "Epoch 123/200\n",
            "504/504 [==============================] - 1s 993us/step - loss: 0.0750 - accuracy: 0.9678\n",
            "Epoch 124/200\n",
            "504/504 [==============================] - 1s 998us/step - loss: 0.0716 - accuracy: 0.9708\n",
            "Epoch 125/200\n",
            "504/504 [==============================] - 1s 1ms/step - loss: 0.0707 - accuracy: 0.9697\n",
            "Epoch 126/200\n",
            "504/504 [==============================] - 1s 1ms/step - loss: 0.0685 - accuracy: 0.9710\n",
            "Epoch 127/200\n",
            "504/504 [==============================] - 1s 1ms/step - loss: 0.0696 - accuracy: 0.9694\n",
            "Epoch 128/200\n",
            "504/504 [==============================] - 1s 1ms/step - loss: 0.0658 - accuracy: 0.9728\n",
            "Epoch 129/200\n",
            "504/504 [==============================] - 1s 1ms/step - loss: 0.0746 - accuracy: 0.9679\n",
            "Epoch 130/200\n",
            "504/504 [==============================] - 1s 1ms/step - loss: 0.0727 - accuracy: 0.9693\n",
            "Epoch 131/200\n",
            "504/504 [==============================] - 1s 1ms/step - loss: 0.0665 - accuracy: 0.9729\n",
            "Epoch 132/200\n",
            "504/504 [==============================] - 1s 1ms/step - loss: 0.0721 - accuracy: 0.9677\n",
            "Epoch 133/200\n",
            "504/504 [==============================] - 1s 1ms/step - loss: 0.0815 - accuracy: 0.9657\n",
            "Epoch 134/200\n",
            "504/504 [==============================] - 1s 1ms/step - loss: 0.0698 - accuracy: 0.9706\n",
            "Epoch 135/200\n",
            "504/504 [==============================] - 1s 1ms/step - loss: 0.0658 - accuracy: 0.9704\n",
            "Epoch 136/200\n",
            "504/504 [==============================] - 1s 1ms/step - loss: 0.0669 - accuracy: 0.9707\n",
            "Epoch 137/200\n",
            "504/504 [==============================] - 1s 1ms/step - loss: 0.0621 - accuracy: 0.9714\n",
            "Epoch 138/200\n",
            "504/504 [==============================] - 1s 1ms/step - loss: 0.0710 - accuracy: 0.9668\n",
            "Epoch 139/200\n",
            "504/504 [==============================] - 1s 1ms/step - loss: 0.0687 - accuracy: 0.9688\n",
            "Epoch 140/200\n",
            "504/504 [==============================] - 1s 1ms/step - loss: 0.0687 - accuracy: 0.9691\n",
            "Epoch 141/200\n",
            "504/504 [==============================] - 1s 1ms/step - loss: 0.0556 - accuracy: 0.9767\n",
            "Epoch 142/200\n",
            "504/504 [==============================] - 1s 1ms/step - loss: 0.0626 - accuracy: 0.9721\n",
            "Epoch 143/200\n",
            "504/504 [==============================] - 1s 1ms/step - loss: 0.0648 - accuracy: 0.9713\n",
            "Epoch 144/200\n",
            "504/504 [==============================] - 1s 1ms/step - loss: 0.0605 - accuracy: 0.9733\n",
            "Epoch 145/200\n",
            "504/504 [==============================] - 1s 1ms/step - loss: 0.0643 - accuracy: 0.9717\n",
            "Epoch 146/200\n",
            "504/504 [==============================] - 1s 1ms/step - loss: 0.0678 - accuracy: 0.9671\n",
            "Epoch 147/200\n",
            "504/504 [==============================] - 1s 1ms/step - loss: 0.0688 - accuracy: 0.9700\n",
            "Epoch 148/200\n",
            "504/504 [==============================] - 1s 1ms/step - loss: 0.0604 - accuracy: 0.9727\n",
            "Epoch 149/200\n",
            "504/504 [==============================] - 1s 1ms/step - loss: 0.0596 - accuracy: 0.9716\n",
            "Epoch 150/200\n",
            "504/504 [==============================] - 1s 1ms/step - loss: 0.0591 - accuracy: 0.9708\n",
            "Epoch 151/200\n",
            "504/504 [==============================] - 1s 1ms/step - loss: 0.0622 - accuracy: 0.9729\n",
            "Epoch 152/200\n",
            "504/504 [==============================] - 1s 1ms/step - loss: 0.0662 - accuracy: 0.9686\n",
            "Epoch 153/200\n",
            "504/504 [==============================] - 1s 1ms/step - loss: 0.0684 - accuracy: 0.9694\n",
            "Epoch 154/200\n",
            "504/504 [==============================] - 1s 1ms/step - loss: 0.0618 - accuracy: 0.9705\n",
            "Epoch 155/200\n",
            "504/504 [==============================] - 1s 1ms/step - loss: 0.0603 - accuracy: 0.9733\n",
            "Epoch 156/200\n",
            "504/504 [==============================] - 1s 1ms/step - loss: 0.0694 - accuracy: 0.9689\n",
            "Epoch 157/200\n",
            "504/504 [==============================] - 1s 1ms/step - loss: 0.0580 - accuracy: 0.9743\n",
            "Epoch 158/200\n",
            "504/504 [==============================] - 1s 1ms/step - loss: 0.0611 - accuracy: 0.9704\n",
            "Epoch 159/200\n",
            "504/504 [==============================] - 1s 1ms/step - loss: 0.0640 - accuracy: 0.9710\n",
            "Epoch 160/200\n",
            "504/504 [==============================] - 1s 1ms/step - loss: 0.0644 - accuracy: 0.9703\n",
            "Epoch 161/200\n",
            "504/504 [==============================] - 1s 1ms/step - loss: 0.0632 - accuracy: 0.9694\n",
            "Epoch 162/200\n",
            "504/504 [==============================] - 1s 1ms/step - loss: 0.0652 - accuracy: 0.9693\n",
            "Epoch 163/200\n",
            "504/504 [==============================] - 1s 1ms/step - loss: 0.0586 - accuracy: 0.9701\n",
            "Epoch 164/200\n",
            "504/504 [==============================] - 1s 1ms/step - loss: 0.0644 - accuracy: 0.9701\n",
            "Epoch 165/200\n",
            "504/504 [==============================] - 1s 1ms/step - loss: 0.0583 - accuracy: 0.9739\n",
            "Epoch 166/200\n",
            "504/504 [==============================] - 1s 1ms/step - loss: 0.0619 - accuracy: 0.9702\n",
            "Epoch 167/200\n",
            "504/504 [==============================] - 1s 1ms/step - loss: 0.0577 - accuracy: 0.9738\n",
            "Epoch 168/200\n",
            "504/504 [==============================] - 1s 1ms/step - loss: 0.0679 - accuracy: 0.9661\n",
            "Epoch 169/200\n",
            "504/504 [==============================] - 1s 1ms/step - loss: 0.0594 - accuracy: 0.9725\n",
            "Epoch 170/200\n",
            "504/504 [==============================] - 1s 1ms/step - loss: 0.0630 - accuracy: 0.9716\n",
            "Epoch 171/200\n",
            "504/504 [==============================] - 1s 1ms/step - loss: 0.0594 - accuracy: 0.9729\n",
            "Epoch 172/200\n",
            "504/504 [==============================] - 1s 1ms/step - loss: 0.0606 - accuracy: 0.9726\n",
            "Epoch 173/200\n",
            "504/504 [==============================] - 1s 1ms/step - loss: 0.0634 - accuracy: 0.9671\n",
            "Epoch 174/200\n",
            "504/504 [==============================] - 1s 1ms/step - loss: 0.0680 - accuracy: 0.9671\n",
            "Epoch 175/200\n",
            "504/504 [==============================] - 1s 1ms/step - loss: 0.0620 - accuracy: 0.9692\n",
            "Epoch 176/200\n",
            "504/504 [==============================] - 1s 1ms/step - loss: 0.0583 - accuracy: 0.9720\n",
            "Epoch 177/200\n",
            "504/504 [==============================] - 1s 1ms/step - loss: 0.0585 - accuracy: 0.9745\n",
            "Epoch 178/200\n",
            "504/504 [==============================] - 1s 1ms/step - loss: 0.0617 - accuracy: 0.9694\n",
            "Epoch 179/200\n",
            "504/504 [==============================] - 1s 1ms/step - loss: 0.0649 - accuracy: 0.9686\n",
            "Epoch 180/200\n",
            "504/504 [==============================] - 1s 1ms/step - loss: 0.0639 - accuracy: 0.9702\n",
            "Epoch 181/200\n",
            "504/504 [==============================] - 1s 1ms/step - loss: 0.0584 - accuracy: 0.9726\n",
            "Epoch 182/200\n",
            "504/504 [==============================] - 1s 1ms/step - loss: 0.0572 - accuracy: 0.9730\n",
            "Epoch 183/200\n",
            "504/504 [==============================] - 1s 1ms/step - loss: 0.0581 - accuracy: 0.9727\n",
            "Epoch 184/200\n",
            "504/504 [==============================] - 1s 1ms/step - loss: 0.0618 - accuracy: 0.9717\n",
            "Epoch 185/200\n",
            "504/504 [==============================] - 1s 1ms/step - loss: 0.0612 - accuracy: 0.9716\n",
            "Epoch 186/200\n",
            "504/504 [==============================] - 1s 1ms/step - loss: 0.0666 - accuracy: 0.9685\n",
            "Epoch 187/200\n",
            "504/504 [==============================] - 1s 1ms/step - loss: 0.0565 - accuracy: 0.9737\n",
            "Epoch 188/200\n",
            "504/504 [==============================] - 1s 1ms/step - loss: 0.0588 - accuracy: 0.9704\n",
            "Epoch 189/200\n",
            "504/504 [==============================] - 1s 1ms/step - loss: 0.0571 - accuracy: 0.9756\n",
            "Epoch 190/200\n",
            "504/504 [==============================] - 1s 1ms/step - loss: 0.0580 - accuracy: 0.9735\n",
            "Epoch 191/200\n",
            "504/504 [==============================] - 1s 1ms/step - loss: 0.0564 - accuracy: 0.9729\n",
            "Epoch 192/200\n",
            "504/504 [==============================] - 1s 1ms/step - loss: 0.0598 - accuracy: 0.9716\n",
            "Epoch 193/200\n",
            "504/504 [==============================] - 1s 1ms/step - loss: 0.0542 - accuracy: 0.9756\n",
            "Epoch 194/200\n",
            "504/504 [==============================] - 1s 1ms/step - loss: 0.0549 - accuracy: 0.9751\n",
            "Epoch 195/200\n",
            "504/504 [==============================] - 1s 1ms/step - loss: 0.0566 - accuracy: 0.9755\n",
            "Epoch 196/200\n",
            "504/504 [==============================] - 1s 1ms/step - loss: 0.0586 - accuracy: 0.9731\n",
            "Epoch 197/200\n",
            "504/504 [==============================] - 1s 1ms/step - loss: 0.0630 - accuracy: 0.9718\n",
            "Epoch 198/200\n",
            "504/504 [==============================] - 1s 1ms/step - loss: 0.0561 - accuracy: 0.9723\n",
            "Epoch 199/200\n",
            "504/504 [==============================] - 1s 1ms/step - loss: 0.0593 - accuracy: 0.9721\n",
            "Epoch 200/200\n",
            "504/504 [==============================] - 1s 1ms/step - loss: 0.0530 - accuracy: 0.9773\n"
          ],
          "name": "stdout"
        },
        {
          "output_type": "execute_result",
          "data": {
            "text/plain": [
              "<tensorflow.python.keras.callbacks.History at 0x7f5874448250>"
            ]
          },
          "metadata": {
            "tags": []
          },
          "execution_count": 87
        }
      ]
    },
    {
      "cell_type": "markdown",
      "metadata": {
        "id": "WXN8tGYnb1kP"
      },
      "source": [
        "#### Evaluation of the model on the test set\n",
        "\n",
        "Find the accuracy of your trained model on the test set. Don't forget that you had normalized your training set before training the same model."
      ],
      "id": "WXN8tGYnb1kP"
    },
    {
      "cell_type": "code",
      "metadata": {
        "id": "kT6BjpUgb1kP",
        "colab": {
          "base_uri": "https://localhost:8080/"
        },
        "outputId": "d563290b-b5ff-4674-edfe-c65d230a53d0"
      },
      "source": [
        "loss,accuracy=model.evaluate(test_set,test_labels)\n",
        "print(\"Accuracy:{}\".format(accuracy))"
      ],
      "id": "kT6BjpUgb1kP",
      "execution_count": 88,
      "outputs": [
        {
          "output_type": "stream",
          "text": [
            "68/68 [==============================] - 0s 918us/step - loss: 0.0723 - accuracy: 0.9648\n",
            "Accuracy:0.9648148417472839\n"
          ],
          "name": "stdout"
        }
      ]
    },
    {
      "cell_type": "markdown",
      "metadata": {
        "id": "Jo3RlhsWb1kP"
      },
      "source": [
        "Is accuracy really the best metric to evaluate our model on the test set here? What was the proportion of positive samples to negative samples in the dataset? What would have been the accuracy of a model that would have output '0' for any input? By the way, this dataset is for detecting the presence of thyroid in a patient.\n",
        "\n",
        "Now, find out about the metrics - recall, precision and F1-score. Use these metrics to evaluate your model on the test set"
      ],
      "id": "Jo3RlhsWb1kP"
    },
    {
      "cell_type": "code",
      "metadata": {
        "id": "q5mNyDsrb1kQ",
        "colab": {
          "base_uri": "https://localhost:8080/"
        },
        "outputId": "decc77e5-ec6c-4344-cdc4-72887ee9ac29"
      },
      "source": [
        "prediction=(model.predict(test_set)>0.5).astype(\"int32\")\n",
        "recall=sklearn.metrics.recall_score(test_labels,prediction)\n",
        "precision=sklearn.metrics.precision_score(test_labels,prediction)\n",
        "f1_score=sklearn.metrics.f1_score(test_labels,prediction)\n",
        "print(\"recall:{}\".format(recall))\n",
        "print(\"precision:{}\".format(precision))\n",
        "print(\"f1_score:{}\".format(f1_score))"
      ],
      "id": "q5mNyDsrb1kQ",
      "execution_count": 89,
      "outputs": [
        {
          "output_type": "stream",
          "text": [
            "recall:0.823170731707317\n",
            "precision:0.7417582417582418\n",
            "f1_score:0.7803468208092484\n"
          ],
          "name": "stdout"
        }
      ]
    },
    {
      "cell_type": "markdown",
      "metadata": {
        "id": "ElruhieNb1kQ"
      },
      "source": [
        "Now, tune the hyperparameters of your model (like number of layers, number of units in different layers, etc.) to try and do better and better on the test set."
      ],
      "id": "ElruhieNb1kQ"
    },
    {
      "cell_type": "markdown",
      "metadata": {
        "id": "hF9DzCMbb1kQ"
      },
      "source": [
        "\n",
        "#### Plotting histograms based on prediction values\n",
        "\n",
        "Now, you will plot 2 historgrams of prediction values (0 to 1, or 0% to 100%) on the training data, output by your nn model - one histogram for positive samples and another for negative samples. Plot both the histograms in the same figure. \n",
        "\n",
        "\n",
        "Here's one such plot I made with my nn model:\n",
        "<img src = \"/content/index.jpeg\">\n",
        "\n",
        "The blue histogram is for negative samples and the red one is for positive samples (add a legend to the plots, unlike me).\n",
        "\n",
        "Use log-scale on the y-axis (number of occurances in the given predicted value range), like I have done.\n",
        "\n",
        "Now, what can you infer from the histograms you got? How should an ideal pair of histograms look like?"
      ],
      "id": "hF9DzCMbb1kQ"
    },
    {
      "cell_type": "code",
      "metadata": {
        "id": "outTz9uo7HYH"
      },
      "source": [
        ""
      ],
      "id": "outTz9uo7HYH",
      "execution_count": null,
      "outputs": []
    },
    {
      "cell_type": "code",
      "metadata": {
        "id": "k2yhleczb1kQ"
      },
      "source": [
        ""
      ],
      "id": "k2yhleczb1kQ",
      "execution_count": 89,
      "outputs": []
    }
  ]
}