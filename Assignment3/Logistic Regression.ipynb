{
 "cells": [
  {
   "cell_type": "markdown",
   "metadata": {},
   "source": [
    "# Assignment 3 : Logistic Regression"
   ]
  },
  {
   "cell_type": "markdown",
   "metadata": {},
   "source": [
    "In this assignment you have to use the logistic regression technique you learned in the week 3 of the prescribed course. You have to use numpy to complete the assignment"
   ]
  },
  {
   "cell_type": "markdown",
   "metadata": {},
   "source": [
    "#### Import other the libraries here"
   ]
  },
  {
   "cell_type": "code",
   "execution_count": 2,
   "metadata": {},
   "outputs": [],
   "source": [
    "import numpy as np\n",
    "import csv\n",
    "from matplotlib import pyplot as plt\n",
    "import random\n",
    "import math\n",
    "from sklearn.linear_model import LogisticRegression\n",
    "from sklearn.metrics import confusion_matrix"
   ]
  },
  {
   "cell_type": "markdown",
   "metadata": {},
   "source": [
    "##### Define these functions here:\n",
    "- Sigmoid function: `def sigmoid(x):`"
   ]
  },
  {
   "cell_type": "code",
   "execution_count": 4,
   "metadata": {},
   "outputs": [],
   "source": [
    "def sigmoid(x):\n",
    "    return 1/(1+math.exp(-x))"
   ]
  },
  {
   "cell_type": "markdown",
   "metadata": {},
   "source": [
    "- cost function: `def cost_fn(x,y,theta):` (refer to the course)"
   ]
  },
  {
   "cell_type": "code",
   "execution_count": 63,
   "metadata": {},
   "outputs": [],
   "source": [
    "def htheta(x,theta):\n",
    "    return sigmoid(np.dot(x,theta))\n",
    "\n",
    "def cost_fn(x,y,theta):\n",
    "    cost=0\n",
    "    m=np.size(y)\n",
    "    for i in range (m):\n",
    "        htheta_i=htheta(x[i],theta)\n",
    "        cost-=(np.log(htheta_i)*y[i]+np.log(1-htheta_i)*(1-y[i]))/m\n",
    "    return cost"
   ]
  },
  {
   "cell_type": "markdown",
   "metadata": {},
   "source": [
    "- Gradient descent: `def gradient_descent(X, y, theta, learning_rate=1, iters):`\n",
    "\n",
    "$\\frac{\\partial J}{\\partial \\theta} = \\frac{1}{m} \\Sigma_{i=1}^m ((h_\\theta(x^{(i)})-y^{(i)})x_j^{(i)})$\n",
    "\n",
    "$\\theta_{j+1}^{(i)} = \\theta_j^{(i)} - \\frac{1}{m} \\Sigma_{i=1}^m ((h_\\theta(x^{(i)})-y^{(i)})x_j^{(i)})$\n",
    "\n",
    "Since these are for each element of your matrix. The final expression will be: (if using matrices)\n",
    "$\\theta_{j+1} = \\theta_j - \\frac{1}{m} \\Sigma_{i=1}^m ((h_\\theta(x)-y)x_j)$\n",
    "\n",
    "You have to initialise $\\theta$ and update it at each iteration according to this gradient descent equation"
   ]
  },
  {
   "cell_type": "code",
   "execution_count": 66,
   "metadata": {},
   "outputs": [],
   "source": [
    "def gradient_descent(X,y,theta,iters,learning_rate=1):\n",
    "    m=np.size(y)\n",
    "    for i in range(iters):\n",
    "        diff=np.zeros_like(X[0])\n",
    "        for j in range(m):\n",
    "            diff+=(1/m)*(htheta(X[j],theta)-y[j])*X[j]*learning_rate\n",
    "        theta-=diff\n",
    "        \n",
    "    return theta"
   ]
  },
  {
   "cell_type": "markdown",
   "metadata": {},
   "source": [
    "- Predict: `def predict(X, y, theta, learning_rate=1, iters)`:"
   ]
  },
  {
   "cell_type": "code",
   "execution_count": 67,
   "metadata": {},
   "outputs": [],
   "source": [
    "def predict(X,y,theta,iters,learning_rate=1):\n",
    "    theta_new=np.array([])\n",
    "    for i in range(10):\n",
    "        y_updated=np.where(y==i,1,0)\n",
    "        theta_new=np.append(theta_new,gradient_descent(X,y_updated,theta,iters,learning_rate))\n",
    "    theta_new=theta_new.reshape(10,401)\n",
    "    prediction=np.array([])\n",
    "    for i in range(5000):\n",
    "        for j in range(10):\n",
    "            prediction=np.append(prediction,htheta(X[i],theta_new[j]))\n",
    "    prediction=prediction.reshape(5000,10)\n",
    "    prediction=prediction.argmax(axis=1)\n",
    "    return prediction"
   ]
  },
  {
   "cell_type": "markdown",
   "metadata": {},
   "source": [
    "### Load MNSIT data here\n",
    "\n",
    "There are two file, X.csv and y.csv.\n",
    "You have to load these csv files (read about csv in python) and store them in python variables. \n",
    "There are 5000 images, each line in X.csv is an image (pixels of image of size 20x20 are concatenated to size 400x1) and each line is y.csv is the label of that image (label in n-th line in y.csv corresponds to image in n-th line in X.csv)"
   ]
  },
  {
   "cell_type": "code",
   "execution_count": 33,
   "metadata": {},
   "outputs": [
    {
     "name": "stdout",
     "output_type": "stream",
     "text": [
      "(401,)\n",
      "[[0. 0. 0. ... 0. 0. 0.]\n",
      " [0. 0. 0. ... 0. 0. 0.]\n",
      " [0. 0. 0. ... 0. 0. 0.]\n",
      " ...\n",
      " [0. 0. 0. ... 0. 0. 0.]\n",
      " [0. 0. 0. ... 0. 0. 0.]\n",
      " [0. 0. 0. ... 0. 0. 0.]] [0. 0. 0. ... 9. 9. 9.]\n",
      "(5000, 400)\n"
     ]
    }
   ],
   "source": [
    "X=np.loadtxt('X.csv',delimiter=',')\n",
    "y=np.loadtxt('y.csv')\n",
    "theta=np.ones(len(X[0])+1)\n",
    "print(X,y)\n",
    "print(X.shape)"
   ]
  },
  {
   "cell_type": "markdown",
   "metadata": {},
   "source": [
    "Now your task is to:\n",
    "1. Reshape these to 20x20 and show any 5 of them (random) here. \n",
    "2. For regression, you have to use the 400x1 data only. (X will be a 5000x400 matrix and y will be a 1x400 matrix)\n",
    "3. Get you prediction and compare it with the labels in y\n",
    "4. Calculate the error %"
   ]
  },
  {
   "cell_type": "code",
   "execution_count": 13,
   "metadata": {
    "scrolled": true
   },
   "outputs": [
    {
     "data": {
      "image/png": "[encoded data removed]",
      "text/plain": [
       "<Figure size 432x288 with 1 Axes>"
      ]
     },
     "metadata": {
      "needs_background": "light"
     },
     "output_type": "display_data"
    },
    {
     "data": {
      "image/png": "[encoded data removed]",
      "text/plain": [
       "<Figure size 432x288 with 1 Axes>"
      ]
     },
     "metadata": {
      "needs_background": "light"
     },
     "output_type": "display_data"
    },
    {
     "data": {
      "image/png": "[encoded data removed]",
      "text/plain": [
       "<Figure size 432x288 with 1 Axes>"
      ]
     },
     "metadata": {
      "needs_background": "light"
     },
     "output_type": "display_data"
    },
    {
     "data": {
      "image/png": "[encoded data removed]",
      "text/plain": [
       "<Figure size 432x288 with 1 Axes>"
      ]
     },
     "metadata": {
      "needs_background": "light"
     },
     "output_type": "display_data"
    },
    {
     "data": {
      "image/png": "[encoded data removed]",
      "text/plain": [
       "<Figure size 432x288 with 1 Axes>"
      ]
     },
     "metadata": {
      "needs_background": "light"
     },
     "output_type": "display_data"
    }
   ],
   "source": [
    "X=X.astype(np.float)\n",
    "x_reshaped=np.reshape(X,(5000,20,20))\n",
    "for i in range(5):\n",
    "    plt.figure()\n",
    "    plt.imshow(x_reshaped[random.randint(0,4999)].T)"
   ]
  },
  {
   "cell_type": "code",
   "execution_count": 69,
   "metadata": {},
   "outputs": [
    {
     "name": "stdout",
     "output_type": "stream",
     "text": [
      "Error: 7.16 %\n"
     ]
    }
   ],
   "source": [
    "X_1=np.hstack((np.ones((5000,1)),X))\n",
    "prediction=(predict(X_1,y,theta,1000,1))\n",
    "num_1=0;\n",
    "for i in range(5000):\n",
    "    if(prediction[i]==y[i]):\n",
    "        num_1+=1\n",
    "print(\"Error: {} %\".format((5000-num_1)/50))"
   ]
  },
  {
   "cell_type": "markdown",
   "metadata": {},
   "source": [
    "Generate the [confusion matrix](https://en.wikipedia.org/wiki/Confusion_matrix) here and show it here: \n"
   ]
  },
  {
   "cell_type": "code",
   "execution_count": 70,
   "metadata": {},
   "outputs": [
    {
     "name": "stdout",
     "output_type": "stream",
     "text": [
      "[[493   0   0   1   1   1   3   0   1   0]\n",
      " [  0 489   1   0   0   6   0   2   2   0]\n",
      " [  3   7 443   6   9   3   3   7  16   3]\n",
      " [  0   2  14 447   1  20   2   7   3   4]\n",
      " [  1   2   5   0 463   0   6   0   2  21]\n",
      " [  3   2   3  18   6 442   9   0  13   4]\n",
      " [  2   2   2   0   0   7 484   0   2   1]\n",
      " [  2   5   5   0   5   1   1 469   1  11]\n",
      " [  2   7   5   6   3  10   4   1 456   6]\n",
      " [  4   1   4   6   5   4   0  18   2 456]]\n"
     ]
    }
   ],
   "source": [
    "print(confusion_matrix(y,prediction,labels=range(0,10)))"
   ]
  },
  {
   "cell_type": "markdown",
   "metadata": {},
   "source": [
    "#### Bonus task: \n",
    "Use [scikit-learn](https://scikit-learn.org/stable/modules/generated/sklearn.linear_model.LogisticRegression.html) to perform logistic regression (just a single function which will handle all your task :P)"
   ]
  },
  {
   "cell_type": "code",
   "execution_count": 88,
   "metadata": {},
   "outputs": [
    {
     "name": "stdout",
     "output_type": "stream",
     "text": [
      "Error: 3.76%\n"
     ]
    }
   ],
   "source": [
    "logreg=LogisticRegression(max_iter=1000)\n",
    "logreg.fit(X,y)\n",
    "predict=logreg.predict(X)\n",
    "num=0\n",
    "for i in range(5000):\n",
    "    if(predict[i]==y[i]):\n",
    "        num+=1\n",
    "print('Error: {}%'.format((5000-num)/50))"
   ]
  },
  {
   "cell_type": "code",
   "execution_count": 91,
   "metadata": {},
   "outputs": [
    {
     "name": "stdout",
     "output_type": "stream",
     "text": [
      "[[499   0   0   0   0   0   0   0   1   0]\n",
      " [  0 491   2   1   0   2   0   0   2   2]\n",
      " [  1   2 474   1   4   1   1   3  10   3]\n",
      " [  0   2   5 471   0  12   0   4   3   3]\n",
      " [  0   2   3   0 482   0   1   0   1  11]\n",
      " [  1   1   2   9   3 473   5   0   4   2]\n",
      " [  2   2   0   0   0   4 490   0   2   0]\n",
      " [  0   2   2   1   3   0   0 481   0  11]\n",
      " [  0   4   4   3   2   2   3   1 478   3]\n",
      " [  2   1   3   3   3   2   0  11   2 473]]\n"
     ]
    }
   ],
   "source": [
    "print(confusion_matrix(y,predict,labels=range(0,10)))"
   ]
  },
  {
   "cell_type": "code",
   "execution_count": null,
   "metadata": {},
   "outputs": [],
   "source": []
  }
 ],
 "metadata": {
  "kernelspec": {
   "display_name": "Python 3",
   "language": "python",
   "name": "python3"
  },
  "language_info": {
   "codemirror_mode": {
    "name": "ipython",
    "version": 3
   },
   "file_extension": ".py",
   "mimetype": "text/x-python",
   "name": "python",
   "nbconvert_exporter": "python",
   "pygments_lexer": "ipython3",
   "version": "3.8.5"
  }
 },
 "nbformat": 4,
 "nbformat_minor": 4
}
